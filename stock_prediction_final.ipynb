{
 "cells": [
  {
   "cell_type": "code",
   "execution_count": 1,
   "id": "65ce2f09-3f2e-4daf-b5e7-7ae071bb5f47",
   "metadata": {},
   "outputs": [],
   "source": [
    "import numpy as np\n",
    "import pandas as pd\n",
    "import matplotlib.pyplot as plt\n",
    "import yfinance as yf\n",
    "from pandas_datareader import data as pdr"
   ]
  },
  {
   "cell_type": "code",
   "execution_count": 2,
   "id": "1c505d8b-aa6a-40b4-a5ff-b6c830b19563",
   "metadata": {},
   "outputs": [
    {
     "name": "stdout",
     "output_type": "stream",
     "text": [
      "[*********************100%%**********************]  1 of 1 completed\n"
     ]
    },
    {
     "data": {
      "text/html": [
       "<div>\n",
       "<style scoped>\n",
       "    .dataframe tbody tr th:only-of-type {\n",
       "        vertical-align: middle;\n",
       "    }\n",
       "\n",
       "    .dataframe tbody tr th {\n",
       "        vertical-align: top;\n",
       "    }\n",
       "\n",
       "    .dataframe thead th {\n",
       "        text-align: right;\n",
       "    }\n",
       "</style>\n",
       "<table border=\"1\" class=\"dataframe\">\n",
       "  <thead>\n",
       "    <tr style=\"text-align: right;\">\n",
       "      <th></th>\n",
       "      <th>Open</th>\n",
       "      <th>High</th>\n",
       "      <th>Low</th>\n",
       "      <th>Close</th>\n",
       "      <th>Adj Close</th>\n",
       "      <th>Volume</th>\n",
       "    </tr>\n",
       "    <tr>\n",
       "      <th>Date</th>\n",
       "      <th></th>\n",
       "      <th></th>\n",
       "      <th></th>\n",
       "      <th></th>\n",
       "      <th></th>\n",
       "      <th></th>\n",
       "    </tr>\n",
       "  </thead>\n",
       "  <tbody>\n",
       "    <tr>\n",
       "      <th>2005-01-03</th>\n",
       "      <td>4.916571</td>\n",
       "      <td>5.071989</td>\n",
       "      <td>4.868253</td>\n",
       "      <td>5.048826</td>\n",
       "      <td>5.048826</td>\n",
       "      <td>636143518</td>\n",
       "    </tr>\n",
       "    <tr>\n",
       "      <th>2005-01-04</th>\n",
       "      <td>5.016198</td>\n",
       "      <td>5.054305</td>\n",
       "      <td>4.818937</td>\n",
       "      <td>4.844342</td>\n",
       "      <td>4.844342</td>\n",
       "      <td>552298420</td>\n",
       "    </tr>\n",
       "    <tr>\n",
       "      <th>2005-01-05</th>\n",
       "      <td>4.818190</td>\n",
       "      <td>4.904118</td>\n",
       "      <td>4.787804</td>\n",
       "      <td>4.819685</td>\n",
       "      <td>4.819685</td>\n",
       "      <td>330698912</td>\n",
       "    </tr>\n",
       "    <tr>\n",
       "      <th>2005-01-06</th>\n",
       "      <td>4.858788</td>\n",
       "      <td>4.879212</td>\n",
       "      <td>4.675475</td>\n",
       "      <td>4.696148</td>\n",
       "      <td>4.696148</td>\n",
       "      <td>417041336</td>\n",
       "    </tr>\n",
       "    <tr>\n",
       "      <th>2005-01-07</th>\n",
       "      <td>4.748203</td>\n",
       "      <td>4.838116</td>\n",
       "      <td>4.701876</td>\n",
       "      <td>4.828153</td>\n",
       "      <td>4.828153</td>\n",
       "      <td>387964757</td>\n",
       "    </tr>\n",
       "  </tbody>\n",
       "</table>\n",
       "</div>"
      ],
      "text/plain": [
       "                Open      High       Low     Close  Adj Close     Volume\n",
       "Date                                                                    \n",
       "2005-01-03  4.916571  5.071989  4.868253  5.048826   5.048826  636143518\n",
       "2005-01-04  5.016198  5.054305  4.818937  4.844342   4.844342  552298420\n",
       "2005-01-05  4.818190  4.904118  4.787804  4.819685   4.819685  330698912\n",
       "2005-01-06  4.858788  4.879212  4.675475  4.696148   4.696148  417041336\n",
       "2005-01-07  4.748203  4.838116  4.701876  4.828153   4.828153  387964757"
      ]
     },
     "execution_count": 2,
     "metadata": {},
     "output_type": "execute_result"
    }
   ],
   "source": [
    "\n",
    "yf.pdr_override()\n",
    "\n",
    "start = '2005-01-01'\n",
    "end = '2024-05-01'\n",
    "\n",
    "df = pdr.get_data_yahoo('GOOG', start, end)\n",
    "df.head()"
   ]
  },
  {
   "cell_type": "code",
   "execution_count": 3,
   "id": "daad16f5-4229-477e-b86f-4008dbe151ba",
   "metadata": {},
   "outputs": [
    {
     "data": {
      "text/html": [
       "<div>\n",
       "<style scoped>\n",
       "    .dataframe tbody tr th:only-of-type {\n",
       "        vertical-align: middle;\n",
       "    }\n",
       "\n",
       "    .dataframe tbody tr th {\n",
       "        vertical-align: top;\n",
       "    }\n",
       "\n",
       "    .dataframe thead th {\n",
       "        text-align: right;\n",
       "    }\n",
       "</style>\n",
       "<table border=\"1\" class=\"dataframe\">\n",
       "  <thead>\n",
       "    <tr style=\"text-align: right;\">\n",
       "      <th></th>\n",
       "      <th>Open</th>\n",
       "      <th>High</th>\n",
       "      <th>Low</th>\n",
       "      <th>Close</th>\n",
       "      <th>Adj Close</th>\n",
       "      <th>Volume</th>\n",
       "    </tr>\n",
       "    <tr>\n",
       "      <th>Date</th>\n",
       "      <th></th>\n",
       "      <th></th>\n",
       "      <th></th>\n",
       "      <th></th>\n",
       "      <th></th>\n",
       "      <th></th>\n",
       "    </tr>\n",
       "  </thead>\n",
       "  <tbody>\n",
       "    <tr>\n",
       "      <th>2024-04-22</th>\n",
       "      <td>156.009995</td>\n",
       "      <td>159.184998</td>\n",
       "      <td>155.660004</td>\n",
       "      <td>157.949997</td>\n",
       "      <td>157.949997</td>\n",
       "      <td>17243900</td>\n",
       "    </tr>\n",
       "    <tr>\n",
       "      <th>2024-04-23</th>\n",
       "      <td>158.589996</td>\n",
       "      <td>160.479996</td>\n",
       "      <td>157.964996</td>\n",
       "      <td>159.919998</td>\n",
       "      <td>159.919998</td>\n",
       "      <td>16115400</td>\n",
       "    </tr>\n",
       "    <tr>\n",
       "      <th>2024-04-24</th>\n",
       "      <td>159.089996</td>\n",
       "      <td>161.389999</td>\n",
       "      <td>158.820007</td>\n",
       "      <td>161.100006</td>\n",
       "      <td>161.100006</td>\n",
       "      <td>19485700</td>\n",
       "    </tr>\n",
       "    <tr>\n",
       "      <th>2024-04-25</th>\n",
       "      <td>153.360001</td>\n",
       "      <td>158.279999</td>\n",
       "      <td>152.768005</td>\n",
       "      <td>157.949997</td>\n",
       "      <td>157.949997</td>\n",
       "      <td>36197800</td>\n",
       "    </tr>\n",
       "    <tr>\n",
       "      <th>2024-04-26</th>\n",
       "      <td>175.990005</td>\n",
       "      <td>176.419998</td>\n",
       "      <td>171.399994</td>\n",
       "      <td>173.690002</td>\n",
       "      <td>173.690002</td>\n",
       "      <td>55186700</td>\n",
       "    </tr>\n",
       "  </tbody>\n",
       "</table>\n",
       "</div>"
      ],
      "text/plain": [
       "                  Open        High         Low       Close   Adj Close  \\\n",
       "Date                                                                     \n",
       "2024-04-22  156.009995  159.184998  155.660004  157.949997  157.949997   \n",
       "2024-04-23  158.589996  160.479996  157.964996  159.919998  159.919998   \n",
       "2024-04-24  159.089996  161.389999  158.820007  161.100006  161.100006   \n",
       "2024-04-25  153.360001  158.279999  152.768005  157.949997  157.949997   \n",
       "2024-04-26  175.990005  176.419998  171.399994  173.690002  173.690002   \n",
       "\n",
       "              Volume  \n",
       "Date                  \n",
       "2024-04-22  17243900  \n",
       "2024-04-23  16115400  \n",
       "2024-04-24  19485700  \n",
       "2024-04-25  36197800  \n",
       "2024-04-26  55186700  "
      ]
     },
     "execution_count": 3,
     "metadata": {},
     "output_type": "execute_result"
    }
   ],
   "source": [
    "df.tail()"
   ]
  },
  {
   "cell_type": "code",
   "execution_count": 4,
   "id": "1aa4832b-84bf-45da-9771-b6bc232458ab",
   "metadata": {},
   "outputs": [
    {
     "data": {
      "text/html": [
       "<div>\n",
       "<style scoped>\n",
       "    .dataframe tbody tr th:only-of-type {\n",
       "        vertical-align: middle;\n",
       "    }\n",
       "\n",
       "    .dataframe tbody tr th {\n",
       "        vertical-align: top;\n",
       "    }\n",
       "\n",
       "    .dataframe thead th {\n",
       "        text-align: right;\n",
       "    }\n",
       "</style>\n",
       "<table border=\"1\" class=\"dataframe\">\n",
       "  <thead>\n",
       "    <tr style=\"text-align: right;\">\n",
       "      <th></th>\n",
       "      <th>Date</th>\n",
       "      <th>Open</th>\n",
       "      <th>High</th>\n",
       "      <th>Low</th>\n",
       "      <th>Close</th>\n",
       "      <th>Adj Close</th>\n",
       "      <th>Volume</th>\n",
       "    </tr>\n",
       "  </thead>\n",
       "  <tbody>\n",
       "    <tr>\n",
       "      <th>0</th>\n",
       "      <td>2005-01-03</td>\n",
       "      <td>4.916571</td>\n",
       "      <td>5.071989</td>\n",
       "      <td>4.868253</td>\n",
       "      <td>5.048826</td>\n",
       "      <td>5.048826</td>\n",
       "      <td>636143518</td>\n",
       "    </tr>\n",
       "    <tr>\n",
       "      <th>1</th>\n",
       "      <td>2005-01-04</td>\n",
       "      <td>5.016198</td>\n",
       "      <td>5.054305</td>\n",
       "      <td>4.818937</td>\n",
       "      <td>4.844342</td>\n",
       "      <td>4.844342</td>\n",
       "      <td>552298420</td>\n",
       "    </tr>\n",
       "    <tr>\n",
       "      <th>2</th>\n",
       "      <td>2005-01-05</td>\n",
       "      <td>4.818190</td>\n",
       "      <td>4.904118</td>\n",
       "      <td>4.787804</td>\n",
       "      <td>4.819685</td>\n",
       "      <td>4.819685</td>\n",
       "      <td>330698912</td>\n",
       "    </tr>\n",
       "    <tr>\n",
       "      <th>3</th>\n",
       "      <td>2005-01-06</td>\n",
       "      <td>4.858788</td>\n",
       "      <td>4.879212</td>\n",
       "      <td>4.675475</td>\n",
       "      <td>4.696148</td>\n",
       "      <td>4.696148</td>\n",
       "      <td>417041336</td>\n",
       "    </tr>\n",
       "    <tr>\n",
       "      <th>4</th>\n",
       "      <td>2005-01-07</td>\n",
       "      <td>4.748203</td>\n",
       "      <td>4.838116</td>\n",
       "      <td>4.701876</td>\n",
       "      <td>4.828153</td>\n",
       "      <td>4.828153</td>\n",
       "      <td>387964757</td>\n",
       "    </tr>\n",
       "  </tbody>\n",
       "</table>\n",
       "</div>"
      ],
      "text/plain": [
       "        Date      Open      High       Low     Close  Adj Close     Volume\n",
       "0 2005-01-03  4.916571  5.071989  4.868253  5.048826   5.048826  636143518\n",
       "1 2005-01-04  5.016198  5.054305  4.818937  4.844342   4.844342  552298420\n",
       "2 2005-01-05  4.818190  4.904118  4.787804  4.819685   4.819685  330698912\n",
       "3 2005-01-06  4.858788  4.879212  4.675475  4.696148   4.696148  417041336\n",
       "4 2005-01-07  4.748203  4.838116  4.701876  4.828153   4.828153  387964757"
      ]
     },
     "execution_count": 4,
     "metadata": {},
     "output_type": "execute_result"
    }
   ],
   "source": [
    "df = df.reset_index()\n",
    "df.head()"
   ]
  },
  {
   "cell_type": "code",
   "execution_count": 5,
   "id": "66569222-12c8-455e-934a-517edaa503ee",
   "metadata": {},
   "outputs": [],
   "source": [
    "df = df.drop(['Date','Adj Close'],axis=1)\n"
   ]
  },
  {
   "cell_type": "code",
   "execution_count": 6,
   "id": "ef29228d-8b7e-4f46-ade4-961b5f81d5f8",
   "metadata": {},
   "outputs": [
    {
     "data": {
      "text/html": [
       "<div>\n",
       "<style scoped>\n",
       "    .dataframe tbody tr th:only-of-type {\n",
       "        vertical-align: middle;\n",
       "    }\n",
       "\n",
       "    .dataframe tbody tr th {\n",
       "        vertical-align: top;\n",
       "    }\n",
       "\n",
       "    .dataframe thead th {\n",
       "        text-align: right;\n",
       "    }\n",
       "</style>\n",
       "<table border=\"1\" class=\"dataframe\">\n",
       "  <thead>\n",
       "    <tr style=\"text-align: right;\">\n",
       "      <th></th>\n",
       "      <th>Open</th>\n",
       "      <th>High</th>\n",
       "      <th>Low</th>\n",
       "      <th>Close</th>\n",
       "      <th>Volume</th>\n",
       "    </tr>\n",
       "  </thead>\n",
       "  <tbody>\n",
       "    <tr>\n",
       "      <th>0</th>\n",
       "      <td>4.916571</td>\n",
       "      <td>5.071989</td>\n",
       "      <td>4.868253</td>\n",
       "      <td>5.048826</td>\n",
       "      <td>636143518</td>\n",
       "    </tr>\n",
       "    <tr>\n",
       "      <th>1</th>\n",
       "      <td>5.016198</td>\n",
       "      <td>5.054305</td>\n",
       "      <td>4.818937</td>\n",
       "      <td>4.844342</td>\n",
       "      <td>552298420</td>\n",
       "    </tr>\n",
       "    <tr>\n",
       "      <th>2</th>\n",
       "      <td>4.818190</td>\n",
       "      <td>4.904118</td>\n",
       "      <td>4.787804</td>\n",
       "      <td>4.819685</td>\n",
       "      <td>330698912</td>\n",
       "    </tr>\n",
       "    <tr>\n",
       "      <th>3</th>\n",
       "      <td>4.858788</td>\n",
       "      <td>4.879212</td>\n",
       "      <td>4.675475</td>\n",
       "      <td>4.696148</td>\n",
       "      <td>417041336</td>\n",
       "    </tr>\n",
       "    <tr>\n",
       "      <th>4</th>\n",
       "      <td>4.748203</td>\n",
       "      <td>4.838116</td>\n",
       "      <td>4.701876</td>\n",
       "      <td>4.828153</td>\n",
       "      <td>387964757</td>\n",
       "    </tr>\n",
       "  </tbody>\n",
       "</table>\n",
       "</div>"
      ],
      "text/plain": [
       "       Open      High       Low     Close     Volume\n",
       "0  4.916571  5.071989  4.868253  5.048826  636143518\n",
       "1  5.016198  5.054305  4.818937  4.844342  552298420\n",
       "2  4.818190  4.904118  4.787804  4.819685  330698912\n",
       "3  4.858788  4.879212  4.675475  4.696148  417041336\n",
       "4  4.748203  4.838116  4.701876  4.828153  387964757"
      ]
     },
     "execution_count": 6,
     "metadata": {},
     "output_type": "execute_result"
    }
   ],
   "source": [
    "df.head()"
   ]
  },
  {
   "cell_type": "code",
   "execution_count": 7,
   "id": "e128dfb9-1e5f-472b-8119-fb9ed8b32211",
   "metadata": {},
   "outputs": [
    {
     "data": {
      "text/plain": [
       "[<matplotlib.lines.Line2D at 0x23a6f1b1710>]"
      ]
     },
     "execution_count": 7,
     "metadata": {},
     "output_type": "execute_result"
    },
    {
     "data": {
      "image/png": "[encoded data removed]",
      "text/plain": [
       "<Figure size 640x480 with 1 Axes>"
      ]
     },
     "metadata": {},
     "output_type": "display_data"
    }
   ],
   "source": [
    "plt.plot(df.Close)"
   ]
  },
  {
   "cell_type": "code",
   "execution_count": 8,
   "id": "f18e8db2-414e-41b2-ba9b-dd4ad9f0da02",
   "metadata": {},
   "outputs": [
    {
     "data": {
      "text/html": [
       "<div>\n",
       "<style scoped>\n",
       "    .dataframe tbody tr th:only-of-type {\n",
       "        vertical-align: middle;\n",
       "    }\n",
       "\n",
       "    .dataframe tbody tr th {\n",
       "        vertical-align: top;\n",
       "    }\n",
       "\n",
       "    .dataframe thead th {\n",
       "        text-align: right;\n",
       "    }\n",
       "</style>\n",
       "<table border=\"1\" class=\"dataframe\">\n",
       "  <thead>\n",
       "    <tr style=\"text-align: right;\">\n",
       "      <th></th>\n",
       "      <th>Open</th>\n",
       "      <th>High</th>\n",
       "      <th>Low</th>\n",
       "      <th>Close</th>\n",
       "      <th>Volume</th>\n",
       "    </tr>\n",
       "  </thead>\n",
       "  <tbody>\n",
       "    <tr>\n",
       "      <th>0</th>\n",
       "      <td>4.916571</td>\n",
       "      <td>5.071989</td>\n",
       "      <td>4.868253</td>\n",
       "      <td>5.048826</td>\n",
       "      <td>636143518</td>\n",
       "    </tr>\n",
       "    <tr>\n",
       "      <th>1</th>\n",
       "      <td>5.016198</td>\n",
       "      <td>5.054305</td>\n",
       "      <td>4.818937</td>\n",
       "      <td>4.844342</td>\n",
       "      <td>552298420</td>\n",
       "    </tr>\n",
       "    <tr>\n",
       "      <th>2</th>\n",
       "      <td>4.818190</td>\n",
       "      <td>4.904118</td>\n",
       "      <td>4.787804</td>\n",
       "      <td>4.819685</td>\n",
       "      <td>330698912</td>\n",
       "    </tr>\n",
       "    <tr>\n",
       "      <th>3</th>\n",
       "      <td>4.858788</td>\n",
       "      <td>4.879212</td>\n",
       "      <td>4.675475</td>\n",
       "      <td>4.696148</td>\n",
       "      <td>417041336</td>\n",
       "    </tr>\n",
       "    <tr>\n",
       "      <th>4</th>\n",
       "      <td>4.748203</td>\n",
       "      <td>4.838116</td>\n",
       "      <td>4.701876</td>\n",
       "      <td>4.828153</td>\n",
       "      <td>387964757</td>\n",
       "    </tr>\n",
       "    <tr>\n",
       "      <th>...</th>\n",
       "      <td>...</td>\n",
       "      <td>...</td>\n",
       "      <td>...</td>\n",
       "      <td>...</td>\n",
       "      <td>...</td>\n",
       "    </tr>\n",
       "    <tr>\n",
       "      <th>4857</th>\n",
       "      <td>156.009995</td>\n",
       "      <td>159.184998</td>\n",
       "      <td>155.660004</td>\n",
       "      <td>157.949997</td>\n",
       "      <td>17243900</td>\n",
       "    </tr>\n",
       "    <tr>\n",
       "      <th>4858</th>\n",
       "      <td>158.589996</td>\n",
       "      <td>160.479996</td>\n",
       "      <td>157.964996</td>\n",
       "      <td>159.919998</td>\n",
       "      <td>16115400</td>\n",
       "    </tr>\n",
       "    <tr>\n",
       "      <th>4859</th>\n",
       "      <td>159.089996</td>\n",
       "      <td>161.389999</td>\n",
       "      <td>158.820007</td>\n",
       "      <td>161.100006</td>\n",
       "      <td>19485700</td>\n",
       "    </tr>\n",
       "    <tr>\n",
       "      <th>4860</th>\n",
       "      <td>153.360001</td>\n",
       "      <td>158.279999</td>\n",
       "      <td>152.768005</td>\n",
       "      <td>157.949997</td>\n",
       "      <td>36197800</td>\n",
       "    </tr>\n",
       "    <tr>\n",
       "      <th>4861</th>\n",
       "      <td>175.990005</td>\n",
       "      <td>176.419998</td>\n",
       "      <td>171.399994</td>\n",
       "      <td>173.690002</td>\n",
       "      <td>55186700</td>\n",
       "    </tr>\n",
       "  </tbody>\n",
       "</table>\n",
       "<p>4862 rows × 5 columns</p>\n",
       "</div>"
      ],
      "text/plain": [
       "            Open        High         Low       Close     Volume\n",
       "0       4.916571    5.071989    4.868253    5.048826  636143518\n",
       "1       5.016198    5.054305    4.818937    4.844342  552298420\n",
       "2       4.818190    4.904118    4.787804    4.819685  330698912\n",
       "3       4.858788    4.879212    4.675475    4.696148  417041336\n",
       "4       4.748203    4.838116    4.701876    4.828153  387964757\n",
       "...          ...         ...         ...         ...        ...\n",
       "4857  156.009995  159.184998  155.660004  157.949997   17243900\n",
       "4858  158.589996  160.479996  157.964996  159.919998   16115400\n",
       "4859  159.089996  161.389999  158.820007  161.100006   19485700\n",
       "4860  153.360001  158.279999  152.768005  157.949997   36197800\n",
       "4861  175.990005  176.419998  171.399994  173.690002   55186700\n",
       "\n",
       "[4862 rows x 5 columns]"
      ]
     },
     "execution_count": 8,
     "metadata": {},
     "output_type": "execute_result"
    }
   ],
   "source": [
    "df"
   ]
  },
  {
   "cell_type": "code",
   "execution_count": 9,
   "id": "59f62c94-68b1-4ba4-94a1-b3ed96c332ec",
   "metadata": {},
   "outputs": [
    {
     "data": {
      "text/plain": [
       "0              NaN\n",
       "1              NaN\n",
       "2              NaN\n",
       "3              NaN\n",
       "4              NaN\n",
       "           ...    \n",
       "4857    144.588999\n",
       "4858    144.802000\n",
       "4859    145.049000\n",
       "4860    145.289300\n",
       "4861    145.693000\n",
       "Name: Close, Length: 4862, dtype: float64"
      ]
     },
     "execution_count": 9,
     "metadata": {},
     "output_type": "execute_result"
    }
   ],
   "source": [
    "moving_average100 = df.Close.rolling(100).mean()\n",
    "moving_average100"
   ]
  },
  {
   "cell_type": "code",
   "execution_count": 10,
   "id": "c5079cdf-c353-442a-9890-919724772e69",
   "metadata": {},
   "outputs": [
    {
     "data": {
      "text/plain": [
       "nan"
      ]
     },
     "execution_count": 10,
     "metadata": {},
     "output_type": "execute_result"
    }
   ],
   "source": [
    "moving_average100[98]\n"
   ]
  },
  {
   "cell_type": "code",
   "execution_count": 11,
   "id": "949f717a-52b3-4570-b1bf-55810a08dd14",
   "metadata": {},
   "outputs": [
    {
     "data": {
      "text/plain": [
       "4.972016229629516"
      ]
     },
     "execution_count": 11,
     "metadata": {},
     "output_type": "execute_result"
    }
   ],
   "source": [
    "moving_average100[99]"
   ]
  },
  {
   "cell_type": "code",
   "execution_count": 12,
   "id": "3a3afcd3-df87-43e8-9e05-375922636afe",
   "metadata": {},
   "outputs": [
    {
     "data": {
      "text/plain": [
       "[<matplotlib.lines.Line2D at 0x23a6f3b78d0>]"
      ]
     },
     "execution_count": 12,
     "metadata": {},
     "output_type": "execute_result"
    },
    {
     "data": {
      "image/png": "[encoded data removed]",
      "text/plain": [
       "<Figure size 1200x600 with 1 Axes>"
      ]
     },
     "metadata": {},
     "output_type": "display_data"
    }
   ],
   "source": [
    "plt.figure(figsize=(12,6))\n",
    "plt.plot(df.Close)\n",
    "plt.plot(moving_average100,'r')"
   ]
  },
  {
   "cell_type": "code",
   "execution_count": 13,
   "id": "f223e6fd-31e9-436f-b7cd-1934217dae06",
   "metadata": {},
   "outputs": [],
   "source": [
    "moving_average200 = df.Close.rolling(200).mean()"
   ]
  },
  {
   "cell_type": "code",
   "execution_count": 14,
   "id": "bae97447-e8c1-4db7-829e-fe366917203d",
   "metadata": {},
   "outputs": [
    {
     "data": {
      "text/plain": [
       "[<matplotlib.lines.Line2D at 0x23a6f23a010>]"
      ]
     },
     "execution_count": 14,
     "metadata": {},
     "output_type": "execute_result"
    },
    {
     "data": {
      "image/png": "[encoded data removed]",
      "text/plain": [
       "<Figure size 1200x600 with 1 Axes>"
      ]
     },
     "metadata": {},
     "output_type": "display_data"
    }
   ],
   "source": [
    "plt.figure(figsize=(12,6))\n",
    "plt.plot(df.Close)\n",
    "plt.plot(moving_average100,'r')\n",
    "plt.plot(moving_average200,'g')"
   ]
  },
  {
   "cell_type": "code",
   "execution_count": 15,
   "id": "b72bd9f5-3823-4dc2-9ae0-38d1be05fdf9",
   "metadata": {},
   "outputs": [
    {
     "data": {
      "text/html": [
       "<div>\n",
       "<style scoped>\n",
       "    .dataframe tbody tr th:only-of-type {\n",
       "        vertical-align: middle;\n",
       "    }\n",
       "\n",
       "    .dataframe tbody tr th {\n",
       "        vertical-align: top;\n",
       "    }\n",
       "\n",
       "    .dataframe thead th {\n",
       "        text-align: right;\n",
       "    }\n",
       "</style>\n",
       "<table border=\"1\" class=\"dataframe\">\n",
       "  <thead>\n",
       "    <tr style=\"text-align: right;\">\n",
       "      <th></th>\n",
       "      <th>Open</th>\n",
       "      <th>High</th>\n",
       "      <th>Low</th>\n",
       "      <th>Close</th>\n",
       "      <th>Volume</th>\n",
       "    </tr>\n",
       "  </thead>\n",
       "  <tbody>\n",
       "    <tr>\n",
       "      <th>0</th>\n",
       "      <td>4.916571</td>\n",
       "      <td>5.071989</td>\n",
       "      <td>4.868253</td>\n",
       "      <td>5.048826</td>\n",
       "      <td>636143518</td>\n",
       "    </tr>\n",
       "    <tr>\n",
       "      <th>1</th>\n",
       "      <td>5.016198</td>\n",
       "      <td>5.054305</td>\n",
       "      <td>4.818937</td>\n",
       "      <td>4.844342</td>\n",
       "      <td>552298420</td>\n",
       "    </tr>\n",
       "    <tr>\n",
       "      <th>2</th>\n",
       "      <td>4.818190</td>\n",
       "      <td>4.904118</td>\n",
       "      <td>4.787804</td>\n",
       "      <td>4.819685</td>\n",
       "      <td>330698912</td>\n",
       "    </tr>\n",
       "    <tr>\n",
       "      <th>3</th>\n",
       "      <td>4.858788</td>\n",
       "      <td>4.879212</td>\n",
       "      <td>4.675475</td>\n",
       "      <td>4.696148</td>\n",
       "      <td>417041336</td>\n",
       "    </tr>\n",
       "    <tr>\n",
       "      <th>4</th>\n",
       "      <td>4.748203</td>\n",
       "      <td>4.838116</td>\n",
       "      <td>4.701876</td>\n",
       "      <td>4.828153</td>\n",
       "      <td>387964757</td>\n",
       "    </tr>\n",
       "    <tr>\n",
       "      <th>...</th>\n",
       "      <td>...</td>\n",
       "      <td>...</td>\n",
       "      <td>...</td>\n",
       "      <td>...</td>\n",
       "      <td>...</td>\n",
       "    </tr>\n",
       "    <tr>\n",
       "      <th>4857</th>\n",
       "      <td>156.009995</td>\n",
       "      <td>159.184998</td>\n",
       "      <td>155.660004</td>\n",
       "      <td>157.949997</td>\n",
       "      <td>17243900</td>\n",
       "    </tr>\n",
       "    <tr>\n",
       "      <th>4858</th>\n",
       "      <td>158.589996</td>\n",
       "      <td>160.479996</td>\n",
       "      <td>157.964996</td>\n",
       "      <td>159.919998</td>\n",
       "      <td>16115400</td>\n",
       "    </tr>\n",
       "    <tr>\n",
       "      <th>4859</th>\n",
       "      <td>159.089996</td>\n",
       "      <td>161.389999</td>\n",
       "      <td>158.820007</td>\n",
       "      <td>161.100006</td>\n",
       "      <td>19485700</td>\n",
       "    </tr>\n",
       "    <tr>\n",
       "      <th>4860</th>\n",
       "      <td>153.360001</td>\n",
       "      <td>158.279999</td>\n",
       "      <td>152.768005</td>\n",
       "      <td>157.949997</td>\n",
       "      <td>36197800</td>\n",
       "    </tr>\n",
       "    <tr>\n",
       "      <th>4861</th>\n",
       "      <td>175.990005</td>\n",
       "      <td>176.419998</td>\n",
       "      <td>171.399994</td>\n",
       "      <td>173.690002</td>\n",
       "      <td>55186700</td>\n",
       "    </tr>\n",
       "  </tbody>\n",
       "</table>\n",
       "<p>4862 rows × 5 columns</p>\n",
       "</div>"
      ],
      "text/plain": [
       "            Open        High         Low       Close     Volume\n",
       "0       4.916571    5.071989    4.868253    5.048826  636143518\n",
       "1       5.016198    5.054305    4.818937    4.844342  552298420\n",
       "2       4.818190    4.904118    4.787804    4.819685  330698912\n",
       "3       4.858788    4.879212    4.675475    4.696148  417041336\n",
       "4       4.748203    4.838116    4.701876    4.828153  387964757\n",
       "...          ...         ...         ...         ...        ...\n",
       "4857  156.009995  159.184998  155.660004  157.949997   17243900\n",
       "4858  158.589996  160.479996  157.964996  159.919998   16115400\n",
       "4859  159.089996  161.389999  158.820007  161.100006   19485700\n",
       "4860  153.360001  158.279999  152.768005  157.949997   36197800\n",
       "4861  175.990005  176.419998  171.399994  173.690002   55186700\n",
       "\n",
       "[4862 rows x 5 columns]"
      ]
     },
     "execution_count": 15,
     "metadata": {},
     "output_type": "execute_result"
    }
   ],
   "source": [
    "df"
   ]
  },
  {
   "cell_type": "code",
   "execution_count": 16,
   "id": "2dc01708-8e31-4eaf-beb7-d09a897e5ad5",
   "metadata": {},
   "outputs": [
    {
     "data": {
      "text/plain": [
       "(4862, 5)"
      ]
     },
     "execution_count": 16,
     "metadata": {},
     "output_type": "execute_result"
    }
   ],
   "source": [
    "df.shape"
   ]
  },
  {
   "cell_type": "code",
   "execution_count": 17,
   "id": "e37311e5-f3fb-40ce-b401-def533e00a58",
   "metadata": {},
   "outputs": [],
   "source": [
    "#Taining & Test Data Splitting"
   ]
  },
  {
   "cell_type": "code",
   "execution_count": 18,
   "id": "5e535298-f32e-4704-96e2-72661e095e03",
   "metadata": {},
   "outputs": [
    {
     "name": "stdout",
     "output_type": "stream",
     "text": [
      "data training: (3403, 1)\n",
      "data testing: (1459, 1)\n"
     ]
    }
   ],
   "source": [
    "data_training = pd.DataFrame(df['Close'][0:int(len(df)*0.70)])\n",
    "data_testing = pd.DataFrame(df['Close'][int(len(df)*0.70):int(len(df))])\n",
    "print(f\"data training: {data_training.shape}\")\n",
    "print(f\"data testing: {data_testing.shape}\")"
   ]
  },
  {
   "cell_type": "code",
   "execution_count": 19,
   "id": "6ac56497-1837-4706-9fc9-4c564463b2a4",
   "metadata": {},
   "outputs": [
    {
     "data": {
      "text/html": [
       "<div>\n",
       "<style scoped>\n",
       "    .dataframe tbody tr th:only-of-type {\n",
       "        vertical-align: middle;\n",
       "    }\n",
       "\n",
       "    .dataframe tbody tr th {\n",
       "        vertical-align: top;\n",
       "    }\n",
       "\n",
       "    .dataframe thead th {\n",
       "        text-align: right;\n",
       "    }\n",
       "</style>\n",
       "<table border=\"1\" class=\"dataframe\">\n",
       "  <thead>\n",
       "    <tr style=\"text-align: right;\">\n",
       "      <th></th>\n",
       "      <th>Close</th>\n",
       "    </tr>\n",
       "  </thead>\n",
       "  <tbody>\n",
       "    <tr>\n",
       "      <th>0</th>\n",
       "      <td>5.048826</td>\n",
       "    </tr>\n",
       "    <tr>\n",
       "      <th>1</th>\n",
       "      <td>4.844342</td>\n",
       "    </tr>\n",
       "    <tr>\n",
       "      <th>2</th>\n",
       "      <td>4.819685</td>\n",
       "    </tr>\n",
       "    <tr>\n",
       "      <th>3</th>\n",
       "      <td>4.696148</td>\n",
       "    </tr>\n",
       "    <tr>\n",
       "      <th>4</th>\n",
       "      <td>4.828153</td>\n",
       "    </tr>\n",
       "  </tbody>\n",
       "</table>\n",
       "</div>"
      ],
      "text/plain": [
       "      Close\n",
       "0  5.048826\n",
       "1  4.844342\n",
       "2  4.819685\n",
       "3  4.696148\n",
       "4  4.828153"
      ]
     },
     "execution_count": 19,
     "metadata": {},
     "output_type": "execute_result"
    }
   ],
   "source": [
    "data_training.head()"
   ]
  },
  {
   "cell_type": "code",
   "execution_count": 20,
   "id": "3534fff0-660d-4e3e-904a-353d24c45c39",
   "metadata": {},
   "outputs": [
    {
     "data": {
      "text/html": [
       "<div>\n",
       "<style scoped>\n",
       "    .dataframe tbody tr th:only-of-type {\n",
       "        vertical-align: middle;\n",
       "    }\n",
       "\n",
       "    .dataframe tbody tr th {\n",
       "        vertical-align: top;\n",
       "    }\n",
       "\n",
       "    .dataframe thead th {\n",
       "        text-align: right;\n",
       "    }\n",
       "</style>\n",
       "<table border=\"1\" class=\"dataframe\">\n",
       "  <thead>\n",
       "    <tr style=\"text-align: right;\">\n",
       "      <th></th>\n",
       "      <th>Close</th>\n",
       "    </tr>\n",
       "  </thead>\n",
       "  <tbody>\n",
       "    <tr>\n",
       "      <th>3403</th>\n",
       "      <td>57.695000</td>\n",
       "    </tr>\n",
       "    <tr>\n",
       "      <th>3404</th>\n",
       "      <td>59.174000</td>\n",
       "    </tr>\n",
       "    <tr>\n",
       "      <th>3405</th>\n",
       "      <td>59.441002</td>\n",
       "    </tr>\n",
       "    <tr>\n",
       "      <th>3406</th>\n",
       "      <td>59.193001</td>\n",
       "    </tr>\n",
       "    <tr>\n",
       "      <th>3407</th>\n",
       "      <td>59.939999</td>\n",
       "    </tr>\n",
       "  </tbody>\n",
       "</table>\n",
       "</div>"
      ],
      "text/plain": [
       "          Close\n",
       "3403  57.695000\n",
       "3404  59.174000\n",
       "3405  59.441002\n",
       "3406  59.193001\n",
       "3407  59.939999"
      ]
     },
     "execution_count": 20,
     "metadata": {},
     "output_type": "execute_result"
    }
   ],
   "source": [
    "data_testing.head()"
   ]
  },
  {
   "cell_type": "code",
   "execution_count": 21,
   "id": "7cae6cf8-fdf1-4e60-8fca-e978d664babb",
   "metadata": {},
   "outputs": [],
   "source": [
    "from sklearn.preprocessing import MinMaxScaler\n",
    "scaler =  MinMaxScaler(feature_range=(0,1))"
   ]
  },
  {
   "cell_type": "code",
   "execution_count": 22,
   "id": "0d313730-8a37-446b-8a93-a616cf972c04",
   "metadata": {},
   "outputs": [
    {
     "data": {
      "text/plain": [
       "array([[0.01268357],\n",
       "       [0.00892699],\n",
       "       [0.00847401],\n",
       "       ...,\n",
       "       [0.96723529],\n",
       "       [0.97998478],\n",
       "       [0.97887331]])"
      ]
     },
     "execution_count": 22,
     "metadata": {},
     "output_type": "execute_result"
    }
   ],
   "source": [
    "data_training_array = scaler.fit_transform(data_training)\n",
    "data_training_array"
   ]
  },
  {
   "cell_type": "code",
   "execution_count": 23,
   "id": "e03e8cbc-e4ab-4dab-915f-8ae11bdbc385",
   "metadata": {},
   "outputs": [
    {
     "data": {
      "text/plain": [
       "array([4.35841417])"
      ]
     },
     "execution_count": 23,
     "metadata": {},
     "output_type": "execute_result"
    }
   ],
   "source": [
    "scaler.data_min_"
   ]
  },
  {
   "cell_type": "code",
   "execution_count": 24,
   "id": "f3f324fc-570e-4b48-80be-51723f710b0a",
   "metadata": {},
   "outputs": [
    {
     "data": {
      "text/plain": [
       "array([58.79199982])"
      ]
     },
     "execution_count": 24,
     "metadata": {},
     "output_type": "execute_result"
    }
   ],
   "source": [
    "scaler.data_max_"
   ]
  },
  {
   "cell_type": "code",
   "execution_count": 25,
   "id": "87be9453-6017-4c7a-9ba4-3adac31b01ec",
   "metadata": {},
   "outputs": [
    {
     "data": {
      "text/plain": [
       "(3403, 1)"
      ]
     },
     "execution_count": 25,
     "metadata": {},
     "output_type": "execute_result"
    }
   ],
   "source": [
    "data_training_array.shape"
   ]
  },
  {
   "cell_type": "code",
   "execution_count": 26,
   "id": "94e35955-f4c6-441d-ba89-f403f6b7dea3",
   "metadata": {},
   "outputs": [],
   "source": [
    "x_train = []\n",
    "y_train = []\n",
    "\n",
    "for i in range(100, data_training_array.shape[0]):\n",
    "    x_train.append(data_training_array[i-100:i])\n",
    "    y_train.append(data_training_array[i,0])\n",
    "\n"
   ]
  },
  {
   "cell_type": "code",
   "execution_count": 27,
   "id": "23a526ea-9e79-4ecb-a3c2-c019c161512c",
   "metadata": {},
   "outputs": [],
   "source": [
    "#x_train"
   ]
  },
  {
   "cell_type": "code",
   "execution_count": 28,
   "id": "57ab2e1d-115d-489c-ac37-6457ccb71ea4",
   "metadata": {},
   "outputs": [],
   "source": [
    "#y_train"
   ]
  },
  {
   "cell_type": "code",
   "execution_count": 29,
   "id": "454e3724-0e52-4836-ad40-2a117273a612",
   "metadata": {},
   "outputs": [],
   "source": [
    "x_train , y_train = np.array(x_train), np.array(y_train)"
   ]
  },
  {
   "cell_type": "code",
   "execution_count": 30,
   "id": "ce6b6e38-49d2-4d79-ba21-84cddf22b3c8",
   "metadata": {},
   "outputs": [
    {
     "data": {
      "text/plain": [
       "array([[[0.01268357],\n",
       "        [0.00892699],\n",
       "        [0.00847401],\n",
       "        ...,\n",
       "        [0.03681528],\n",
       "        [0.03706695],\n",
       "        [0.03926781]],\n",
       "\n",
       "       [[0.00892699],\n",
       "        [0.00847401],\n",
       "        [0.00620451],\n",
       "        ...,\n",
       "        [0.03706695],\n",
       "        [0.03926781],\n",
       "        [0.03853113]],\n",
       "\n",
       "       [[0.00847401],\n",
       "        [0.00620451],\n",
       "        [0.00862958],\n",
       "        ...,\n",
       "        [0.03926781],\n",
       "        [0.03853113],\n",
       "        [0.04164254]],\n",
       "\n",
       "       ...,\n",
       "\n",
       "       [[0.88619159],\n",
       "        [0.88633855],\n",
       "        [0.90250506],\n",
       "        ...,\n",
       "        [0.95556055],\n",
       "        [0.93299175],\n",
       "        [0.95263037]],\n",
       "\n",
       "       [[0.88633855],\n",
       "        [0.90250506],\n",
       "        [0.92071075],\n",
       "        ...,\n",
       "        [0.93299175],\n",
       "        [0.95263037],\n",
       "        [0.96723529]],\n",
       "\n",
       "       [[0.90250506],\n",
       "        [0.92071075],\n",
       "        [0.9255607 ],\n",
       "        ...,\n",
       "        [0.95263037],\n",
       "        [0.96723529],\n",
       "        [0.97998478]]])"
      ]
     },
     "execution_count": 30,
     "metadata": {},
     "output_type": "execute_result"
    }
   ],
   "source": [
    "x_train"
   ]
  },
  {
   "cell_type": "code",
   "execution_count": 31,
   "id": "1463b2c9-c56f-4d3e-801d-a174c340043e",
   "metadata": {},
   "outputs": [
    {
     "data": {
      "text/plain": [
       "(3303, 100, 1)"
      ]
     },
     "execution_count": 31,
     "metadata": {},
     "output_type": "execute_result"
    }
   ],
   "source": [
    "x_train.shape"
   ]
  },
  {
   "cell_type": "code",
   "execution_count": 32,
   "id": "edc9cef9-c33a-4926-a2a0-14c63cf4af64",
   "metadata": {},
   "outputs": [],
   "source": [
    "#ML Model"
   ]
  },
  {
   "cell_type": "code",
   "execution_count": 33,
   "id": "a6db2f83-5fe1-49c0-a299-7f9cb3e77044",
   "metadata": {},
   "outputs": [
    {
     "name": "stdout",
     "output_type": "stream",
     "text": [
      "WARNING:tensorflow:From C:\\Users\\Jayed Bin Azad\\AppData\\Roaming\\Python\\Python311\\site-packages\\keras\\src\\losses.py:2976: The name tf.losses.sparse_softmax_cross_entropy is deprecated. Please use tf.compat.v1.losses.sparse_softmax_cross_entropy instead.\n",
      "\n"
     ]
    }
   ],
   "source": [
    "from keras.layers import Dense, Dropout, LSTM\n",
    "from keras.models import Sequential"
   ]
  },
  {
   "cell_type": "code",
   "execution_count": 34,
   "id": "8b982d43-ba99-4805-9019-a498b58443bb",
   "metadata": {},
   "outputs": [
    {
     "name": "stdout",
     "output_type": "stream",
     "text": [
      "WARNING:tensorflow:From C:\\Users\\Jayed Bin Azad\\AppData\\Roaming\\Python\\Python311\\site-packages\\keras\\src\\backend.py:873: The name tf.get_default_graph is deprecated. Please use tf.compat.v1.get_default_graph instead.\n",
      "\n"
     ]
    }
   ],
   "source": [
    "model = Sequential()\n",
    "model.add(LSTM(128,return_sequences=True,input_shape=(x_train.shape[1],1)))\n",
    "model.add(LSTM(64,return_sequences=False))\n",
    "model.add(Dense(25))\n",
    "model.add(Dense(1))"
   ]
  },
  {
   "cell_type": "code",
   "execution_count": 35,
   "id": "3b4afd73-8113-42ec-a5e6-f174930cba86",
   "metadata": {},
   "outputs": [
    {
     "name": "stdout",
     "output_type": "stream",
     "text": [
      "Model: \"sequential\"\n",
      "_________________________________________________________________\n",
      " Layer (type)                Output Shape              Param #   \n",
      "=================================================================\n",
      " lstm (LSTM)                 (None, 100, 128)          66560     \n",
      "                                                                 \n",
      " lstm_1 (LSTM)               (None, 64)                49408     \n",
      "                                                                 \n",
      " dense (Dense)               (None, 25)                1625      \n",
      "                                                                 \n",
      " dense_1 (Dense)             (None, 1)                 26        \n",
      "                                                                 \n",
      "=================================================================\n",
      "Total params: 117619 (459.45 KB)\n",
      "Trainable params: 117619 (459.45 KB)\n",
      "Non-trainable params: 0 (0.00 Byte)\n",
      "_________________________________________________________________\n"
     ]
    }
   ],
   "source": [
    "model.summary()"
   ]
  },
  {
   "cell_type": "code",
   "execution_count": 36,
   "id": "98d44749-4eb2-4f40-948a-acf9ec55d117",
   "metadata": {},
   "outputs": [
    {
     "name": "stdout",
     "output_type": "stream",
     "text": [
      "WARNING:tensorflow:From C:\\Users\\Jayed Bin Azad\\AppData\\Roaming\\Python\\Python311\\site-packages\\keras\\src\\optimizers\\__init__.py:309: The name tf.train.Optimizer is deprecated. Please use tf.compat.v1.train.Optimizer instead.\n",
      "\n",
      "Epoch 1/2\n",
      "WARNING:tensorflow:From C:\\Users\\Jayed Bin Azad\\AppData\\Roaming\\Python\\Python311\\site-packages\\keras\\src\\utils\\tf_utils.py:492: The name tf.ragged.RaggedTensorValue is deprecated. Please use tf.compat.v1.ragged.RaggedTensorValue instead.\n",
      "\n",
      "3303/3303 [==============================] - 162s 48ms/step - loss: 9.4591e-04\n",
      "Epoch 2/2\n",
      "3303/3303 [==============================] - 169s 51ms/step - loss: 3.5525e-04\n"
     ]
    },
    {
     "data": {
      "text/plain": [
       "<keras.src.callbacks.History at 0x23a0bcf9190>"
      ]
     },
     "execution_count": 36,
     "metadata": {},
     "output_type": "execute_result"
    }
   ],
   "source": [
    "model.compile(optimizer = 'adam', loss = 'mean_squared_error')\n",
    "model.fit(x_train,y_train,batch_size=1,epochs=2)"
   ]
  },
  {
   "cell_type": "code",
   "execution_count": 37,
   "id": "ecfab8d0-1cc4-4101-89af-f3e9958766ce",
   "metadata": {},
   "outputs": [],
   "source": [
    "#test"
   ]
  },
  {
   "cell_type": "code",
   "execution_count": 38,
   "id": "5c93e087-ec90-4c4d-a2d7-64a4563dcc85",
   "metadata": {},
   "outputs": [
    {
     "data": {
      "text/html": [
       "<div>\n",
       "<style scoped>\n",
       "    .dataframe tbody tr th:only-of-type {\n",
       "        vertical-align: middle;\n",
       "    }\n",
       "\n",
       "    .dataframe tbody tr th {\n",
       "        vertical-align: top;\n",
       "    }\n",
       "\n",
       "    .dataframe thead th {\n",
       "        text-align: right;\n",
       "    }\n",
       "</style>\n",
       "<table border=\"1\" class=\"dataframe\">\n",
       "  <thead>\n",
       "    <tr style=\"text-align: right;\">\n",
       "      <th></th>\n",
       "      <th>Close</th>\n",
       "    </tr>\n",
       "  </thead>\n",
       "  <tbody>\n",
       "    <tr>\n",
       "      <th>3403</th>\n",
       "      <td>57.695000</td>\n",
       "    </tr>\n",
       "    <tr>\n",
       "      <th>3404</th>\n",
       "      <td>59.174000</td>\n",
       "    </tr>\n",
       "    <tr>\n",
       "      <th>3405</th>\n",
       "      <td>59.441002</td>\n",
       "    </tr>\n",
       "    <tr>\n",
       "      <th>3406</th>\n",
       "      <td>59.193001</td>\n",
       "    </tr>\n",
       "    <tr>\n",
       "      <th>3407</th>\n",
       "      <td>59.939999</td>\n",
       "    </tr>\n",
       "  </tbody>\n",
       "</table>\n",
       "</div>"
      ],
      "text/plain": [
       "          Close\n",
       "3403  57.695000\n",
       "3404  59.174000\n",
       "3405  59.441002\n",
       "3406  59.193001\n",
       "3407  59.939999"
      ]
     },
     "execution_count": 38,
     "metadata": {},
     "output_type": "execute_result"
    }
   ],
   "source": [
    "data_testing.head()"
   ]
  },
  {
   "cell_type": "code",
   "execution_count": 39,
   "id": "464be894-1bfd-4410-821f-6a5b2ec4bab7",
   "metadata": {},
   "outputs": [],
   "source": [
    "past_100_days = data_training.tail(100)"
   ]
  },
  {
   "cell_type": "code",
   "execution_count": 40,
   "id": "a378856e-9775-4107-81ef-61411f490ecd",
   "metadata": {},
   "outputs": [],
   "source": [
    "final_df = pd.concat([past_100_days, data_testing], ignore_index=True)"
   ]
  },
  {
   "cell_type": "code",
   "execution_count": 41,
   "id": "6892de7f-240f-4449-afe1-ba9a8f664a77",
   "metadata": {},
   "outputs": [
    {
     "data": {
      "text/html": [
       "<div>\n",
       "<style scoped>\n",
       "    .dataframe tbody tr th:only-of-type {\n",
       "        vertical-align: middle;\n",
       "    }\n",
       "\n",
       "    .dataframe tbody tr th {\n",
       "        vertical-align: top;\n",
       "    }\n",
       "\n",
       "    .dataframe thead th {\n",
       "        text-align: right;\n",
       "    }\n",
       "</style>\n",
       "<table border=\"1\" class=\"dataframe\">\n",
       "  <thead>\n",
       "    <tr style=\"text-align: right;\">\n",
       "      <th></th>\n",
       "      <th>Close</th>\n",
       "    </tr>\n",
       "  </thead>\n",
       "  <tbody>\n",
       "    <tr>\n",
       "      <th>0</th>\n",
       "      <td>54.476002</td>\n",
       "    </tr>\n",
       "    <tr>\n",
       "      <th>1</th>\n",
       "      <td>54.740002</td>\n",
       "    </tr>\n",
       "    <tr>\n",
       "      <th>2</th>\n",
       "      <td>55.123001</td>\n",
       "    </tr>\n",
       "    <tr>\n",
       "      <th>3</th>\n",
       "      <td>55.567001</td>\n",
       "    </tr>\n",
       "    <tr>\n",
       "      <th>4</th>\n",
       "      <td>55.331501</td>\n",
       "    </tr>\n",
       "  </tbody>\n",
       "</table>\n",
       "</div>"
      ],
      "text/plain": [
       "       Close\n",
       "0  54.476002\n",
       "1  54.740002\n",
       "2  55.123001\n",
       "3  55.567001\n",
       "4  55.331501"
      ]
     },
     "execution_count": 41,
     "metadata": {},
     "output_type": "execute_result"
    }
   ],
   "source": [
    "final_df.head()"
   ]
  },
  {
   "cell_type": "code",
   "execution_count": 42,
   "id": "79592b9d-e39b-435f-a0a5-ebc32df6d3c9",
   "metadata": {},
   "outputs": [
    {
     "data": {
      "text/plain": [
       "array([[0.04536392],\n",
       "       [0.04747796],\n",
       "       [0.05054493],\n",
       "       ...,\n",
       "       [0.89918244],\n",
       "       [0.87395795],\n",
       "       [1.        ]])"
      ]
     },
     "execution_count": 42,
     "metadata": {},
     "output_type": "execute_result"
    }
   ],
   "source": [
    "input_data = scaler.fit_transform(final_df)\n",
    "input_data"
   ]
  },
  {
   "cell_type": "code",
   "execution_count": 43,
   "id": "9b1abddf-5c7e-4c5d-ad0d-97eea64d9798",
   "metadata": {},
   "outputs": [
    {
     "data": {
      "text/plain": [
       "(1559, 1)"
      ]
     },
     "execution_count": 43,
     "metadata": {},
     "output_type": "execute_result"
    }
   ],
   "source": [
    "input_data.shape"
   ]
  },
  {
   "cell_type": "code",
   "execution_count": 44,
   "id": "b0de6b3b-9746-4ff3-bac3-328a1e4be4b3",
   "metadata": {},
   "outputs": [],
   "source": [
    "x_test = []\n",
    "y_test = []\n",
    "\n",
    "for i in range(100, input_data.shape[0]):\n",
    "    x_test.append(input_data[i-100:i])\n",
    "    y_test.append(input_data[i,0])"
   ]
  },
  {
   "cell_type": "code",
   "execution_count": 45,
   "id": "3696156b-64a3-481c-88d4-9c7fb0b75c1c",
   "metadata": {},
   "outputs": [
    {
     "name": "stdout",
     "output_type": "stream",
     "text": [
      "(1459, 100, 1)\n",
      "(1459,)\n"
     ]
    }
   ],
   "source": [
    "x_test , y_test = np.array(x_test), np.array(y_test)\n",
    "print(x_test.shape)\n",
    "print(y_test.shape)"
   ]
  },
  {
   "cell_type": "code",
   "execution_count": 46,
   "id": "219d7ab9-4c26-40f1-b3c0-12a0e1c2824b",
   "metadata": {},
   "outputs": [
    {
     "name": "stdout",
     "output_type": "stream",
     "text": [
      "46/46 [==============================] - 3s 46ms/step\n"
     ]
    }
   ],
   "source": [
    "#making predictions\n",
    "\n",
    "y_predicted = model.predict(x_test)"
   ]
  },
  {
   "cell_type": "code",
   "execution_count": 47,
   "id": "fbfce740-a9a9-419c-a973-5aeb22f0fb8c",
   "metadata": {},
   "outputs": [
    {
     "data": {
      "text/plain": [
       "(1459, 1)"
      ]
     },
     "execution_count": 47,
     "metadata": {},
     "output_type": "execute_result"
    }
   ],
   "source": [
    "y_predicted.shape"
   ]
  },
  {
   "cell_type": "code",
   "execution_count": 48,
   "id": "1e72fa8f-f764-4044-95a3-0761749b5c05",
   "metadata": {},
   "outputs": [
    {
     "data": {
      "text/plain": [
       "array([[0.05944531],\n",
       "       [0.06002051],\n",
       "       [0.06559727],\n",
       "       ...,\n",
       "       [0.9058942 ],\n",
       "       [0.917431  ],\n",
       "       [0.90706044]], dtype=float32)"
      ]
     },
     "execution_count": 48,
     "metadata": {},
     "output_type": "execute_result"
    }
   ],
   "source": [
    "y_predicted"
   ]
  },
  {
   "cell_type": "code",
   "execution_count": 49,
   "id": "5e6d5c0c-1b45-4e43-96b9-0a0c1d73f12d",
   "metadata": {},
   "outputs": [
    {
     "data": {
      "text/plain": [
       "array([0.07114085, 0.08298432, 0.08512241, ..., 0.89918244, 0.87395795,\n",
       "       1.        ])"
      ]
     },
     "execution_count": 49,
     "metadata": {},
     "output_type": "execute_result"
    }
   ],
   "source": [
    "y_test"
   ]
  },
  {
   "cell_type": "code",
   "execution_count": 50,
   "id": "07f967aa-1b72-4250-8af4-6fcd0cb36421",
   "metadata": {},
   "outputs": [
    {
     "data": {
      "text/plain": [
       "array([0.00800775])"
      ]
     },
     "execution_count": 50,
     "metadata": {},
     "output_type": "execute_result"
    }
   ],
   "source": [
    "scaler.scale_"
   ]
  },
  {
   "cell_type": "code",
   "execution_count": 51,
   "id": "97631aea-dd72-446a-ab95-e2855dfd7ce0",
   "metadata": {},
   "outputs": [],
   "source": [
    "scale_factor = 1/scaler.scale_\n",
    "y_predicted = y_predicted * scale_factor\n",
    "y_test = y_test * scale_factor"
   ]
  },
  {
   "cell_type": "code",
   "execution_count": 52,
   "id": "358c74d8-c9d6-4a18-a9d5-960fa2704d68",
   "metadata": {},
   "outputs": [
    {
     "data": {
      "image/png": "[encoded data removed]",
      "text/plain": [
       "<Figure size 1200x600 with 1 Axes>"
      ]
     },
     "metadata": {},
     "output_type": "display_data"
    }
   ],
   "source": [
    "plt.figure(figsize=(12,6))\n",
    "plt.plot(y_test,'b',label  = 'Original Price')\n",
    "plt.plot(y_predicted, 'r', label  = 'Predicted Price')\n",
    "plt.xlabel('Time')\n",
    "plt.ylabel('Price')\n",
    "plt.legend()\n",
    "plt.show()"
   ]
  },
  {
   "cell_type": "code",
   "execution_count": 53,
   "id": "2465ede3-1111-4ccd-bb30-f0d3c92fc627",
   "metadata": {},
   "outputs": [
    {
     "data": {
      "text/plain": [
       "(1459,)"
      ]
     },
     "execution_count": 53,
     "metadata": {},
     "output_type": "execute_result"
    }
   ],
   "source": [
    "y_test.shape"
   ]
  },
  {
   "cell_type": "code",
   "execution_count": 54,
   "id": "573a84f2-81e0-4f9a-8666-942813318b6a",
   "metadata": {},
   "outputs": [
    {
     "data": {
      "text/plain": [
       "(1459, 1)"
      ]
     },
     "execution_count": 54,
     "metadata": {},
     "output_type": "execute_result"
    }
   ],
   "source": [
    "y_predicted.shape"
   ]
  },
  {
   "cell_type": "code",
   "execution_count": 55,
   "id": "8838b82f-0159-4b26-81d8-538ba7de8452",
   "metadata": {},
   "outputs": [
    {
     "data": {
      "text/plain": [
       "47.25226376394674"
      ]
     },
     "execution_count": 55,
     "metadata": {},
     "output_type": "execute_result"
    }
   ],
   "source": [
    "rmse = np.sqrt(np.mean((y_test-y_predicted)**2))\n",
    "rmse"
   ]
  },
  {
   "cell_type": "code",
   "execution_count": 56,
   "id": "090ef7f8-edfd-4103-a9ea-542ea349bf82",
   "metadata": {},
   "outputs": [
    {
     "data": {
      "text/html": [
       "<div>\n",
       "<style scoped>\n",
       "    .dataframe tbody tr th:only-of-type {\n",
       "        vertical-align: middle;\n",
       "    }\n",
       "\n",
       "    .dataframe tbody tr th {\n",
       "        vertical-align: top;\n",
       "    }\n",
       "\n",
       "    .dataframe thead th {\n",
       "        text-align: right;\n",
       "    }\n",
       "</style>\n",
       "<table border=\"1\" class=\"dataframe\">\n",
       "  <thead>\n",
       "    <tr style=\"text-align: right;\">\n",
       "      <th></th>\n",
       "      <th>Original</th>\n",
       "      <th>Predicted</th>\n",
       "    </tr>\n",
       "  </thead>\n",
       "  <tbody>\n",
       "    <tr>\n",
       "      <th>0</th>\n",
       "      <td>8.883999</td>\n",
       "      <td>7.423471</td>\n",
       "    </tr>\n",
       "    <tr>\n",
       "      <th>1</th>\n",
       "      <td>10.362999</td>\n",
       "      <td>7.495301</td>\n",
       "    </tr>\n",
       "    <tr>\n",
       "      <th>2</th>\n",
       "      <td>10.630001</td>\n",
       "      <td>8.191721</td>\n",
       "    </tr>\n",
       "    <tr>\n",
       "      <th>3</th>\n",
       "      <td>10.382000</td>\n",
       "      <td>8.815469</td>\n",
       "    </tr>\n",
       "    <tr>\n",
       "      <th>4</th>\n",
       "      <td>11.128998</td>\n",
       "      <td>8.974822</td>\n",
       "    </tr>\n",
       "    <tr>\n",
       "      <th>...</th>\n",
       "      <td>...</td>\n",
       "      <td>...</td>\n",
       "    </tr>\n",
       "    <tr>\n",
       "      <th>1454</th>\n",
       "      <td>109.138996</td>\n",
       "      <td>110.561935</td>\n",
       "    </tr>\n",
       "    <tr>\n",
       "      <th>1455</th>\n",
       "      <td>111.108997</td>\n",
       "      <td>111.455013</td>\n",
       "    </tr>\n",
       "    <tr>\n",
       "      <th>1456</th>\n",
       "      <td>112.289005</td>\n",
       "      <td>113.127166</td>\n",
       "    </tr>\n",
       "    <tr>\n",
       "      <th>1457</th>\n",
       "      <td>109.138996</td>\n",
       "      <td>114.567867</td>\n",
       "    </tr>\n",
       "    <tr>\n",
       "      <th>1458</th>\n",
       "      <td>124.879002</td>\n",
       "      <td>113.272803</td>\n",
       "    </tr>\n",
       "  </tbody>\n",
       "</table>\n",
       "<p>1459 rows × 2 columns</p>\n",
       "</div>"
      ],
      "text/plain": [
       "        Original   Predicted\n",
       "0       8.883999    7.423471\n",
       "1      10.362999    7.495301\n",
       "2      10.630001    8.191721\n",
       "3      10.382000    8.815469\n",
       "4      11.128998    8.974822\n",
       "...          ...         ...\n",
       "1454  109.138996  110.561935\n",
       "1455  111.108997  111.455013\n",
       "1456  112.289005  113.127166\n",
       "1457  109.138996  114.567867\n",
       "1458  124.879002  113.272803\n",
       "\n",
       "[1459 rows x 2 columns]"
      ]
     },
     "execution_count": 56,
     "metadata": {},
     "output_type": "execute_result"
    }
   ],
   "source": [
    "df2=pd.DataFrame(y_test,columns=[\"Original\"])\n",
    "df3=pd.DataFrame(y_predicted,columns=[\"Predicted\"])\n",
    "\n",
    "result=pd.concat([df2,df3],axis=1)\n",
    "result"
   ]
  },
  {
   "cell_type": "code",
   "execution_count": null,
   "id": "723f717c-8a6d-4839-be54-6a2c4e4d52f3",
   "metadata": {},
   "outputs": [],
   "source": []
  },
  {
   "cell_type": "code",
   "execution_count": null,
   "id": "a7306b26-c60e-445a-a8bb-833ee1968b23",
   "metadata": {},
   "outputs": [],
   "source": []
  }
 ],
 "metadata": {
  "kernelspec": {
   "display_name": "Python 3 (ipykernel)",
   "language": "python",
   "name": "python3"
  },
  "language_info": {
   "codemirror_mode": {
    "name": "ipython",
    "version": 3
   },
   "file_extension": ".py",
   "mimetype": "text/x-python",
   "name": "python",
   "nbconvert_exporter": "python",
   "pygments_lexer": "ipython3",
   "version": "3.11.5"
  }
 },
 "nbformat": 4,
 "nbformat_minor": 5
}
